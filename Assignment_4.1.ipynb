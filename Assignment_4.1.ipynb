{
 "cells": [
  {
   "cell_type": "code",
   "execution_count": 3,
   "metadata": {},
   "outputs": [
    {
     "name": "stdout",
     "output_type": "stream",
     "text": [
      "Please enter the sentence:i am a go god goood fooor\n",
      "Please enter a number:2\n",
      "['god', 'goood', 'fooor']\n"
     ]
    }
   ],
   "source": [
    "def filter_long_words (words,limit):\n",
    "    fil_words = []\n",
    "    for elm in words:\n",
    "        if len(elm) > limit:\n",
    "            fil_words.append(elm)\n",
    "        \n",
    "    return fil_words\n",
    "\n",
    "\n",
    "senten = input (\"Please enter the sentence:\")\n",
    "limit = input (\"Please enter a number:\")\n",
    "lim = int(limit)\n",
    "word = senten.split()\n",
    "res = filter_long_words (word,lim)\n",
    "print (res)\n",
    "\n",
    "        \n"
   ]
  },
  {
   "cell_type": "code",
   "execution_count": null,
   "metadata": {},
   "outputs": [],
   "source": []
  }
 ],
 "metadata": {
  "kernelspec": {
   "display_name": "Python 3",
   "language": "python",
   "name": "python3"
  },
  "language_info": {
   "codemirror_mode": {
    "name": "ipython",
    "version": 3
   },
   "file_extension": ".py",
   "mimetype": "text/x-python",
   "name": "python",
   "nbconvert_exporter": "python",
   "pygments_lexer": "ipython3",
   "version": "3.6.4"
  }
 },
 "nbformat": 4,
 "nbformat_minor": 2
}
